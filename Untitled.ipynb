{
 "cells": [
  {
   "attachments": {},
   "cell_type": "markdown",
   "metadata": {},
   "source": [
    "# Searching document text at scale using Azure Cognitive Search"
   ]
  },
  {
   "cell_type": "markdown",
   "metadata": {},
   "source": [
    "<ul>\n",
    "    <li>Creating an Azure Storage Account</li>\n",
    "    <li>Uploading documents to our Azure Storage Account</li>\n",
    "    <li>Creating an Azure Cognitive Search instance</li>\n",
    "    <li>Connecting the Azure Cognitive Search instance to our data source</li>\n",
    "    <li>Connecting the Azure Cognitive Search instance to Cognitive Services</li>\n",
    "    <li>Defining a skillset including our custom skill</li>\n",
    "    <li>Indexing our documents</li>\n",
    "    <li>Querying Azure Search</li>\n",
    "    <li>Formatting search highlights</li>\n",
    "</ul>"
   ]
  },
  {
   "cell_type": "markdown",
   "metadata": {},
   "source": [
    "<img src='img/azure-search-diagram.png'>"
   ]
  },
  {
   "cell_type": "markdown",
   "metadata": {},
   "source": []
  }
 ],
 "metadata": {
  "kernelspec": {
   "display_name": "Python 3",
   "language": "python",
   "name": "python3"
  },
  "language_info": {
   "codemirror_mode": {
    "name": "ipython",
    "version": 3
   },
   "file_extension": ".py",
   "mimetype": "text/x-python",
   "name": "python",
   "nbconvert_exporter": "python",
   "pygments_lexer": "ipython3",
   "version": "3.7.3"
  }
 },
 "nbformat": 4,
 "nbformat_minor": 2
}
