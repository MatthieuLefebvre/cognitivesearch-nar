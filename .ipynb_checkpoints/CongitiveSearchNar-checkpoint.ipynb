{
 "cells": [
  {
   "cell_type": "markdown",
   "metadata": {},
   "source": [
    "# Searching document text at scale using Azure Cognitive Search"
   ]
  },
  {
   "cell_type": "markdown",
   "metadata": {},
   "source": [
    "<ul>\n",
    "    <li>Creating an Azure Storage Account</li>\n",
    "    <li>Uploading documents to our Azure Storage Account</li>\n",
    "    <li>Creating an Azure Cognitive Search instance</li>\n",
    "    <li>Connecting the Azure Cognitive Search instance to our data source</li>\n",
    "    <li>Connecting the Azure Cognitive Search instance to Cognitive Services</li>\n",
    "    <li>Defining a skillset including our custom skill</li>\n",
    "    <li>Indexing our documents</li>\n",
    "    <li>Querying Azure Search</li>\n",
    "    <li>Formatting search highlights</li>\n",
    "</ul>"
   ]
  },
  {
   "cell_type": "markdown",
   "metadata": {},
   "source": [
    "<img src='img/azure-search-diagram.png'>"
   ]
  },
  {
   "cell_type": "markdown",
   "metadata": {},
   "source": [
    "<h2>Creating a blob storage account</h2>"
   ]
  },
  {
   "cell_type": "markdown",
   "metadata": {},
   "source": [
    "### with azure cli and with VSCode terminal"
   ]
  },
  {
   "cell_type": "markdown",
   "metadata": {},
   "source": [
    "<p>\n",
    "az login <br>\n",
    "select Subscription : <br>\n",
    "az account set --subscription 4495aea3-1236-4df7-bfe7-ffa0902059ab <br>\n",
    "az group create --name azure-search-nar-demo --location eastus2 <br>\n",
    "az storage account create --name narsearchdemostorage --resource-group azure-search-nar-demo --location eastus2 <br>\n",
    "az storage account show-connection-string --name narsearchdemostorage <br>\n",
    "<br>\n",
    "\"connectionString\": \"DefaultEndpointsProtocol=https;EndpointSuffix=core.windows.net;AccountName=narsearchdemostorage;AccountKey=kCgQIYa1avf5cYm2rNkHP4PpkM+MrrkJZRF3is6lfZZgeCtnRWEBuEqGB+OfdCaA7yfKP/AwwihMOjypVsQ81A==\"\n",
    "<br>\n",
    "<b> ---------- have to update Update to use keyVault instead of clear connection string ---------- </b>\n",
    "<br><br>\n",
    "<b>pip install not required as I put put into the environement.yml</b><br>\n",
    "    pip install azure-storage-blob<br>\n",
    "    pip install requests<br>\n",
    "\n",
    "</p>"
   ]
  },
  {
   "cell_type": "code",
   "execution_count": 1,
   "metadata": {},
   "outputs": [],
   "source": [
    "import os\n",
    "\n",
    "from azure.storage.blob import BlobServiceClient, BlobClient, ContainerClient\n",
    "\n",
    "connection_string = \"DefaultEndpointsProtocol=https;EndpointSuffix=core.windows.net;AccountName=narsearchdemostorage;AccountKey=kCgQIYa1avf5cYm2rNkHP4PpkM+MrrkJZRF3is6lfZZgeCtnRWEBuEqGB+OfdCaA7yfKP/AwwihMOjypVsQ81A==\"\n",
    "\n",
    "blob_service_client = BlobServiceClient.from_connection_string(connection_string)\n",
    "\n",
    "container_name = \"nar-pdf-container\"\n",
    "\n",
    "container_client = blob_service_client.create_container(container_name)"
   ]
  },
  {
   "cell_type": "code",
   "execution_count": 2,
   "metadata": {},
   "outputs": [
    {
     "data": {
      "text/plain": [
       "['nar00418-0066.pdf',\n",
       " 'nar00418-0076.pdf',\n",
       " 'nar00418-0094.pdf',\n",
       " 'nar00418-0107.pdf',\n",
       " 'nar00418-0118.pdf',\n",
       " 'nar00418-0133.pdf',\n",
       " 'nar00418-0158.pdf',\n",
       " 'nar00418-0174.pdf',\n",
       " 'nar00418-0187.pdf',\n",
       " 'nar00432-0036.pdf']"
      ]
     },
     "execution_count": 2,
     "metadata": {},
     "output_type": "execute_result"
    }
   ],
   "source": [
    "os.listdir('./pdfs')"
   ]
  },
  {
   "cell_type": "markdown",
   "metadata": {},
   "source": [
    "### copy pdfs into a blob container\n",
    "\n",
    "We can now iterate through these files and upload each of them to our storage account (it may be easier for larger numbers of files to use the AzCopy tool or Azure Storage Explorer or ADF)."
   ]
  },
  {
   "cell_type": "code",
   "execution_count": 3,
   "metadata": {},
   "outputs": [],
   "source": [
    "for pdf in os.listdir('./pdfs'):\n",
    "    blob_client = blob_service_client.get_blob_client(\n",
    "        container=container_name,\n",
    "        blob=pdf\n",
    "    )\n",
    "    with open(os.path.join('.', 'pdfs', pdf), \"rb\") as data:\n",
    "        blob_client.upload_blob(data)"
   ]
  },
  {
   "cell_type": "markdown",
   "metadata": {},
   "source": [
    "To check our files have uploaded, we can list the files in the container:"
   ]
  },
  {
   "cell_type": "code",
   "execution_count": 4,
   "metadata": {},
   "outputs": [
    {
     "name": "stdout",
     "output_type": "stream",
     "text": [
      "nar00418-0066.pdf\n",
      "nar00418-0076.pdf\n",
      "nar00418-0094.pdf\n",
      "nar00418-0107.pdf\n",
      "nar00418-0118.pdf\n",
      "nar00418-0133.pdf\n",
      "nar00418-0158.pdf\n",
      "nar00418-0174.pdf\n",
      "nar00418-0187.pdf\n",
      "nar00432-0036.pdf\n"
     ]
    }
   ],
   "source": [
    "blob_list = container_client.list_blobs()\n",
    "for blob in blob_list:\n",
    "    print(blob.name)"
   ]
  },
  {
   "cell_type": "markdown",
   "metadata": {},
   "source": [
    "## Create Azure Cognitive Search Service"
   ]
  },
  {
   "cell_type": "markdown",
   "metadata": {},
   "source": [
    "using azure cli <br>\n",
    "az search service create --name nar-demo-search --resource-group azure-search-nar-demo --location eastus2 --sku standard"
   ]
  },
  {
   "cell_type": "markdown",
   "metadata": {},
   "source": [
    "## Connect Azure Cognitive Search Service to BLOB storage"
   ]
  },
  {
   "cell_type": "markdown",
   "metadata": {},
   "source": [
    "In the cell below, we’ll import modules and define variables that we’ll need for each of the Azure Cognitive Search Service REST requests for the rest of this blog post.\n",
    "<br>\n",
    "For each request to Azure Cognitive Search, you must provide an API Version, in this post, we’re using the latest stable version, which is \"2019-05-06\"."
   ]
  },
  {
   "cell_type": "code",
   "execution_count": 5,
   "metadata": {},
   "outputs": [
    {
     "name": "stdout",
     "output_type": "stream",
     "text": [
      "201\n",
      "True\n"
     ]
    }
   ],
   "source": [
    "import requests\n",
    "import json\n",
    "\n",
    "service_name = \"nar-demo-search\"\n",
    "api_version = \"2019-05-06\"\n",
    "api_key = \"F7DD58AACD0E50237B2A4B3828998D4E\"\n",
    "\n",
    "headers = {\n",
    "    'Content-Type': 'application/json',\n",
    "    'api-key': api_key\n",
    "}\n",
    "\n",
    "datasource_name = \"blob-datasource\"\n",
    "uri = f\"https://{service_name}.search.windows.net/datasources?api-version={api_version}\"\n",
    "\n",
    "body = {\n",
    "    \"name\": datasource_name,\n",
    "    \"type\": \"azureblob\",\n",
    "    \"credentials\": {\"connectionString\": connection_string},\n",
    "    \"container\": {\"name\": container_name}\n",
    "}\n",
    "\n",
    "resp = requests.post(uri, headers=headers, data=json.dumps(body))\n",
    "print(resp.status_code)\n",
    "print(resp.ok)"
   ]
  },
  {
   "cell_type": "markdown",
   "metadata": {},
   "source": [
    "## Connect Azure Cognitive Search Service to Cognitive Services"
   ]
  },
  {
   "cell_type": "markdown",
   "metadata": {},
   "source": [
    "Next we’re going to define the AI skillset which will be used to enrich our search index.\n",
    "<br>\n",
    "But first, in order to do this, it’s advisable to create an Azure Cognitive Services instance, otherwise your AI enrichment <br> capabilities will be severely limited in scope. This Azure Cognitive Services instance must be in the same region as your<br>  Azure Cognitive Search instance, and can be created from the CLI, I’ve named mine nar-demo-cognitive-services:"
   ]
  },
  {
   "cell_type": "markdown",
   "metadata": {},
   "source": [
    "az cognitiveservices account create --name nar-demo-cognitive-services --kind CognitiveServices --sku S0 --resource-group azure-search-nar-demo --location eastus2"
   ]
  },
  {
   "cell_type": "markdown",
   "metadata": {},
   "source": [
    "We’ll need the account key for this Azure Cognitive Services instance in order to connect our Azure Cognitive Search instance to it, we can retrieve the key using the Azure CLI:"
   ]
  },
  {
   "cell_type": "markdown",
   "metadata": {},
   "source": [
    "az cognitiveservices account keys list --name nar-demo-cognitive-services --resource-group azure-search-nar-demo"
   ]
  },
  {
   "cell_type": "code",
   "execution_count": 6,
   "metadata": {},
   "outputs": [],
   "source": [
    "cognitive_service_key = \"bc51192ebffa4abf96a94d76ff11e3a5\""
   ]
  },
  {
   "cell_type": "markdown",
   "metadata": {},
   "source": [
    "## Create Azure Cognitive Search Skillset"
   ]
  },
  {
   "cell_type": "markdown",
   "metadata": {},
   "source": [
    "To enrich our Azure Cognitive Search Index with an AI skillset, we’ll need to define a skillset.\n",
    "<br>\n",
    "We’ll be using a combination of skills that utilise Azure Cognitive Services. The skills we’ll be using are:\n",
    "<br>\n",
    "<ul>\n",
    "<li>OCR to extract text from image</li>\n",
    "<li>Merge text extracted from OCR into the correct place in documents</li>\n",
    "<li>Detect language</li>\n",
    "<li>Split text into pages if not already done so</li>\n",
    "<li>Key phrase extraction (has a maximum character limit so requires text to be split into pages)</li>\n",
    "</ul>\n",
    "The skillset definition is a JSON object and each of the skills defined take one or more fields as input and provide one or more fields as output.\n",
    "<br>\n",
    "<br>\n",
    "We’ll need to provide the Cognitive Search API with the key to our Cognitive Services account in order to use it, so make sure you put this in your skillset definition.\n"
   ]
  },
  {
   "cell_type": "code",
   "execution_count": 8,
   "metadata": {},
   "outputs": [],
   "source": [
    "skillset = {\n",
    "  \"description\": \"Extract text from images and merge with content text to produce merged_text. Also extract key phrases from pages\",\n",
    "  \"skills\":\n",
    "  [\n",
    "    {\n",
    "      \"description\": \"Extract text (plain and structured) from image.\",\n",
    "      \"@odata.type\": \"#Microsoft.Skills.Vision.OcrSkill\",\n",
    "      \"context\": \"/document/normalized_images/*\",\n",
    "      \"defaultLanguageCode\": \"en\",\n",
    "      \"detectOrientation\": True,\n",
    "      \"inputs\": [\n",
    "        {\n",
    "          \"name\": \"image\",\n",
    "          \"source\": \"/document/normalized_images/*\"\n",
    "        }\n",
    "      ],\n",
    "      \"outputs\": [\n",
    "        {\n",
    "          \"name\": \"text\"\n",
    "        }\n",
    "      ]\n",
    "    },\n",
    "    {\n",
    "      \"@odata.type\": \"#Microsoft.Skills.Text.MergeSkill\",\n",
    "      \"description\": \"Create merged_text, which includes all the textual representation of each image inserted at the right location in the content field.\",\n",
    "      \"context\": \"/document\",\n",
    "      \"insertPreTag\": \" \",\n",
    "      \"insertPostTag\": \" \",\n",
    "      \"inputs\": [\n",
    "        {\n",
    "          \"name\":\"text\", \"source\": \"/document/content\"\n",
    "        },\n",
    "        {\n",
    "          \"name\": \"itemsToInsert\", \"source\": \"/document/normalized_images/*/text\"\n",
    "        },\n",
    "        {\n",
    "          \"name\":\"offsets\", \"source\": \"/document/normalized_images/*/contentOffset\"\n",
    "        }\n",
    "      ],\n",
    "      \"outputs\": [\n",
    "        {\n",
    "          \"name\": \"mergedText\", \"targetName\" : \"merged_text\"\n",
    "        }\n",
    "      ]\n",
    "    },\n",
    "    {\n",
    "      \"@odata.type\": \"#Microsoft.Skills.Text.LanguageDetectionSkill\",\n",
    "      \"inputs\": [\n",
    "        { \"name\": \"text\", \"source\": \"/document/content\" }\n",
    "      ],\n",
    "      \"outputs\": [\n",
    "        { \"name\": \"languageCode\", \"targetName\": \"languageCode\" }\n",
    "      ]\n",
    "    },\n",
    "    {\n",
    "      \"@odata.type\": \"#Microsoft.Skills.Text.SplitSkill\",\n",
    "      \"textSplitMode\" : \"pages\",\n",
    "      \"maximumPageLength\": 4000,\n",
    "      \"inputs\": [\n",
    "        { \"name\": \"text\", \"source\": \"/document/content\" },\n",
    "        { \"name\": \"languageCode\", \"source\": \"/document/languageCode\" }\n",
    "      ],\n",
    "      \"outputs\": [\n",
    "        { \"name\": \"textItems\", \"targetName\": \"pages\" }\n",
    "      ]\n",
    "    },\n",
    "    {\n",
    "      \"@odata.type\": \"#Microsoft.Skills.Text.KeyPhraseExtractionSkill\",\n",
    "      \"context\": \"/document/pages/*\",\n",
    "      \"inputs\": [\n",
    "        { \"name\": \"text\", \"source\": \"/document/pages/*\" },\n",
    "        { \"name\":\"languageCode\", \"source\": \"/document/languageCode\" }\n",
    "      ],\n",
    "      \"outputs\": [\n",
    "        { \"name\": \"keyPhrases\", \"targetName\": \"keyPhrases\" }\n",
    "      ]\n",
    "    },\n",
    "  ],\n",
    "    \"cognitiveServices\": {\n",
    "        \"@odata.type\": \"#Microsoft.Azure.Search.CognitiveServicesByKey\",\n",
    "        \"description\": \"NAR Demo Cognitive Services\",\n",
    "        \"key\": \"bc51192ebffa4abf96a94d76ff11e3a5\"\n",
    "    }\n",
    "}"
   ]
  },
  {
   "cell_type": "markdown",
   "metadata": {},
   "source": [
    "The skillset is created through a PUT request to our Azure Cognitive Search skillsets REST endpoint.\n",
    "\n",
    "The data above is serialised to a JSON string before being provided as the body of the request:"
   ]
  },
  {
   "cell_type": "code",
   "execution_count": 9,
   "metadata": {},
   "outputs": [
    {
     "name": "stdout",
     "output_type": "stream",
     "text": [
      "201\n",
      "True\n"
     ]
    }
   ],
   "source": [
    "skillset_name = 'nar-demo-skillset'\n",
    "uri = f\"https://{service_name}.search.windows.net/skillsets/{skillset_name}?api-version={api_version}\"\n",
    "\n",
    "resp = requests.put(uri, headers=headers, data=json.dumps(skillset))\n",
    "print(resp.status_code)\n",
    "print(resp.ok)"
   ]
  },
  {
   "cell_type": "markdown",
   "metadata": {},
   "source": [
    "## Create Azure Cognitive Search Index"
   ]
  },
  {
   "cell_type": "markdown",
   "metadata": {},
   "source": [
    "The index is the definition of fields that will be returned, as well as metadata such as the data type of this field, whether it is a key or not, and whether it is searchable, filterable, facetable or sortable.\n",
    "\n",
    "We’ll return the id, metadata_storage_name, content, languageCode, keyPhrases, genetic_codes, and merged_text field and make all of them searchable."
   ]
  },
  {
   "cell_type": "code",
   "execution_count": 10,
   "metadata": {},
   "outputs": [],
   "source": [
    "index = {\n",
    "  \"fields\": [\n",
    "    {\n",
    "      \"name\": \"id\",\n",
    "      \"type\": \"Edm.String\",\n",
    "      \"key\": True,\n",
    "      \"searchable\": False,\n",
    "      \"filterable\": False,\n",
    "      \"facetable\": False,\n",
    "      \"sortable\": True\n",
    "    },\n",
    "    {\n",
    "      \"name\": \"metadata_storage_name\",\n",
    "      \"type\": \"Edm.String\",\n",
    "      \"searchable\": True,\n",
    "      \"filterable\": False,\n",
    "      \"facetable\": False,\n",
    "      \"sortable\": True\n",
    "    },\n",
    "    {\n",
    "      \"name\": \"content\",\n",
    "      \"type\": \"Edm.String\",\n",
    "      \"searchable\": True,\n",
    "      \"filterable\": False,\n",
    "      \"facetable\": False,\n",
    "      \"sortable\": False\n",
    "    },\n",
    "    {\n",
    "      \"name\": \"languageCode\",\n",
    "      \"type\": \"Edm.String\",\n",
    "      \"searchable\": True,\n",
    "      \"filterable\": False,\n",
    "      \"facetable\": False,\n",
    "      \"sortable\": False\n",
    "    },\n",
    "    {\n",
    "      \"name\": \"keyPhrases\",\n",
    "      \"type\": \"Collection(Edm.String)\",\n",
    "      \"searchable\": True,\n",
    "      \"filterable\": False,\n",
    "      \"facetable\": False,\n",
    "      \"sortable\": False\n",
    "    },\n",
    "    {\n",
    "      \"name\": \"merged_text\",\n",
    "      \"type\": \"Edm.String\",\n",
    "      \"searchable\": True,\n",
    "      \"filterable\": False,\n",
    "      \"facetable\": False,\n",
    "      \"sortable\": False\n",
    "    }\n",
    "  ]\n",
    "}"
   ]
  },
  {
   "cell_type": "markdown",
   "metadata": {},
   "source": [
    "Just as with our skillset, the index is created through a PUT request to our Azure Cognitive Search indexes REST endpoint.\n",
    "\n",
    "The data above is serialised to a JSON string before being provided as the body of the request:"
   ]
  },
  {
   "cell_type": "code",
   "execution_count": 11,
   "metadata": {},
   "outputs": [
    {
     "name": "stdout",
     "output_type": "stream",
     "text": [
      "201\n",
      "True\n"
     ]
    }
   ],
   "source": [
    "index_name = 'nar-demo-index'\n",
    "uri = f\"https://{service_name}.search.windows.net/indexes/{index_name}?api-version={api_version}\"\n",
    "\n",
    "resp = requests.put(uri, headers=headers, data=json.dumps(index))\n",
    "print(resp.status_code)\n",
    "print(resp.ok)"
   ]
  },
  {
   "cell_type": "markdown",
   "metadata": {},
   "source": [
    "## Create Azure Cognitive Search Indexer"
   ]
  },
  {
   "cell_type": "markdown",
   "metadata": {},
   "source": [
    "We’ll now create our indexer, which runs through our data and indexes it as we’ve defined above using the data source, index and skillset given.\n",
    "\n",
    "We can set maxFailedItems to maxFailedItemsPerBatch to -1 if we want the indexer to continue through until reaching the end of all the documents regardless of how many failures it encounters.\n",
    "\n",
    "The storage path of the file within the storage container will be base 64 encoded and act as a key as it will be unique for each document, regardless of whether two files have the same filename."
   ]
  },
  {
   "cell_type": "code",
   "execution_count": 12,
   "metadata": {},
   "outputs": [],
   "source": [
    "indexer_name = \"nar-demo-indexer\"\n",
    "\n",
    "indexer = {\n",
    "  \"name\": indexer_name,\n",
    "  \"dataSourceName\" : datasource_name,\n",
    "  \"targetIndexName\" : index_name,\n",
    "  \"skillsetName\" : skillset_name,\n",
    "  \"fieldMappings\" : [\n",
    "    {\n",
    "      \"sourceFieldName\" : \"metadata_storage_path\",\n",
    "      \"targetFieldName\" : \"id\",\n",
    "      \"mappingFunction\" : {\"name\": \"base64Encode\"}\n",
    "    },\n",
    "    {\n",
    "      \"sourceFieldName\" : \"metadata_storage_name\",\n",
    "      \"targetFieldName\" : \"metadata_storage_name\",\n",
    "    },\n",
    "    {\n",
    "      \"sourceFieldName\" : \"content\",\n",
    "      \"targetFieldName\" : \"content\"\n",
    "    }\n",
    "  ],\n",
    "  \"outputFieldMappings\" :\n",
    "  [\n",
    "    {\n",
    "      \"sourceFieldName\" : \"/document/merged_text\",\n",
    "      \"targetFieldName\" : \"merged_text\"\n",
    "    },\n",
    "    {\n",
    "      \"sourceFieldName\" : \"/document/pages/*/keyPhrases/*\",\n",
    "      \"targetFieldName\" : \"keyPhrases\"\n",
    "    },\n",
    "    {\n",
    "      \"sourceFieldName\": \"/document/languageCode\",\n",
    "      \"targetFieldName\": \"languageCode\"\n",
    "    }\n",
    "  ],\n",
    "  \"parameters\":\n",
    "  {\n",
    "    \"maxFailedItems\": 1,\n",
    "    \"maxFailedItemsPerBatch\": 1,\n",
    "    \"configuration\":\n",
    "    {\n",
    "      \"dataToExtract\": \"contentAndMetadata\",\n",
    "      \"parsingMode\": \"default\",\n",
    "      \"firstLineContainsHeaders\": False,\n",
    "      \"delimitedTextDelimiter\": \",\",\n",
    "      \"imageAction\": \"generateNormalizedImages\"\n",
    "    }\n",
    "  }\n",
    "}"
   ]
  },
  {
   "cell_type": "markdown",
   "metadata": {},
   "source": [
    "You may be sensing a theme now to creating associated resources for our Azure Cognitive Search instance. Just as with our skillset and index, the indexer is created through a PUT request to our Azure Cognitive Search indexers REST endpoint.\n",
    "\n",
    "The data above is serialised to a JSON string before being provided as the body of the request. This will kick off the indexing on our PDF files.\n",
    "\n",
    "We have not defined a schedule in our indexer so it will just run once but if you wish to provide a schedule that will check for updates to the index you can, for example, every 2 hours would be:\n",
    "\"schedule\" : { \"interval\" : \"PT2H\" }\n",
    "And 5 minutes, the shortest interval, would be:\n",
    "\"schedule\" : { \"interval\" : \"PT5M\" }"
   ]
  },
  {
   "cell_type": "code",
   "execution_count": 13,
   "metadata": {},
   "outputs": [
    {
     "name": "stdout",
     "output_type": "stream",
     "text": [
      "201\n",
      "True\n"
     ]
    }
   ],
   "source": [
    "indexer_name = 'nar-demo-indexer'\n",
    "uri = f\"https://{service_name}.search.windows.net/indexers/{indexer_name}?api-version={api_version}\"\n",
    "\n",
    "resp = requests.put(uri, headers=headers, data=json.dumps(indexer))\n",
    "print(resp.status_code)\n",
    "print(resp.ok)"
   ]
  },
  {
   "cell_type": "markdown",
   "metadata": {},
   "source": [
    "To check on the status of our indexer, you can run the following cell.\n",
    "\n",
    "The JSON response has more information for if you want to know how many files the indexer has completed and how many is left to go."
   ]
  },
  {
   "cell_type": "code",
   "execution_count": 19,
   "metadata": {},
   "outputs": [
    {
     "name": "stdout",
     "output_type": "stream",
     "text": [
      "200\n",
      "success\n",
      "True\n",
      "{'@odata.context': 'https://nar-demo-search.search.windows.net/$metadata#Microsoft.Azure.Search.V2019_05_06.IndexerExecutionInfo', 'name': 'nar-demo-indexer', 'status': 'running', 'lastResult': {'status': 'success', 'errorMessage': None, 'startTime': '2020-03-11T17:24:31.171Z', 'endTime': '2020-03-11T17:25:28.476Z', 'itemsProcessed': 10, 'itemsFailed': 0, 'initialTrackingState': '{\\r\\n  \"lastFullEnumerationStartTime\": \"0001-01-01T00:00:00Z\",\\r\\n  \"lastAttemptedEnumerationStartTime\": \"2020-03-11T17:24:31.233Z\",\\r\\n  \"nameHighWaterMark\": null\\r\\n}', 'finalTrackingState': '{\"LastFullEnumerationStartTime\":\"2020-03-11T17:24:01.2336513+00:00\",\"LastAttemptedEnumerationStartTime\":\"2020-03-11T17:24:01.2336513+00:00\",\"NameHighWaterMark\":null}', 'errors': [], 'warnings': [{'key': 'localId=https%3a%2f%2fnarsearchdemostorage.blob.core.windows.net%2fnar-pdf-container%2fnar00418-0133.pdf&documentKey=https%3a%2f%2fnarsearchdemostorage.blob.core.windows.net%2fnar-pdf-container%2fnar00418-0133.pdf', 'name': 'Enrichment.KeyPhraseExtractionSkill.#5', 'message': 'Web Api skill response contains warnings.', 'details': 'Warning: The document contains very long words (longer than 64 characters). These words may result in truncated and/or unreliable model predictions.', 'documentationLink': 'https://go.microsoft.com/fwlink/?linkid=2106477'}], 'metrics': None}, 'executionHistory': [{'status': 'success', 'errorMessage': None, 'startTime': '2020-03-11T17:24:31.171Z', 'endTime': '2020-03-11T17:25:28.476Z', 'itemsProcessed': 10, 'itemsFailed': 0, 'initialTrackingState': '{\\r\\n  \"lastFullEnumerationStartTime\": \"0001-01-01T00:00:00Z\",\\r\\n  \"lastAttemptedEnumerationStartTime\": \"2020-03-11T17:24:31.233Z\",\\r\\n  \"nameHighWaterMark\": null\\r\\n}', 'finalTrackingState': '{\"LastFullEnumerationStartTime\":\"2020-03-11T17:24:01.2336513+00:00\",\"LastAttemptedEnumerationStartTime\":\"2020-03-11T17:24:01.2336513+00:00\",\"NameHighWaterMark\":null}', 'errors': [], 'warnings': [{'key': 'localId=https%3a%2f%2fnarsearchdemostorage.blob.core.windows.net%2fnar-pdf-container%2fnar00418-0133.pdf&documentKey=https%3a%2f%2fnarsearchdemostorage.blob.core.windows.net%2fnar-pdf-container%2fnar00418-0133.pdf', 'name': 'Enrichment.KeyPhraseExtractionSkill.#5', 'message': 'Web Api skill response contains warnings.', 'details': 'Warning: The document contains very long words (longer than 64 characters). These words may result in truncated and/or unreliable model predictions.', 'documentationLink': 'https://go.microsoft.com/fwlink/?linkid=2106477'}], 'metrics': None}], 'limits': {'maxRunTime': 'PT2H', 'maxDocumentExtractionSize': 134217728, 'maxDocumentContentCharactersToExtract': 4194304}}\n"
     ]
    }
   ],
   "source": [
    "uri = f\"https://{service_name}.search.windows.net/indexers/{indexer_name}/status?api-version={api_version}\"\n",
    "\n",
    "resp = requests.get(uri, headers=headers)\n",
    "print(resp.status_code)\n",
    "print(resp.json().get('lastResult').get('status'))\n",
    "print(resp.ok)\n",
    "print(resp.json())#.get('itemsProcessed'))"
   ]
  },
  {
   "cell_type": "markdown",
   "metadata": {},
   "source": [
    "## Querying the Azure Cognitive Search Index"
   ]
  },
  {
   "cell_type": "code",
   "execution_count": 20,
   "metadata": {},
   "outputs": [
    {
     "name": "stdout",
     "output_type": "stream",
     "text": [
      "https://nar-demo-search.search.windows.net/indexes/nar-demo-index/docs?api-version=2019-05-06&search=RNA&$count=true\n",
      "200\n"
     ]
    }
   ],
   "source": [
    "# Base URL\n",
    "url = 'https://{}.search.windows.net/indexes/{}/docs'.format(service_name, index_name)\n",
    "# API version is required\n",
    "url += '?api-version={}'.format(api_version)\n",
    "# Search query of \"RNA\"\n",
    "url += '&search=RNA'\n",
    "# Return the count of the results\n",
    "url += '&$count=true'\n",
    "print(url)\n",
    "\n",
    "resp = requests.get(url, headers=headers)\n",
    "print(resp.status_code)"
   ]
  },
  {
   "cell_type": "markdown",
   "metadata": {},
   "source": [
    "The 200 status code is a good start. To get the search results from our response, we must call the json() method of our response object to de-serialise the JSON string object that is returned in the body of our response."
   ]
  },
  {
   "cell_type": "code",
   "execution_count": 21,
   "metadata": {},
   "outputs": [],
   "source": [
    "search_results = resp.json()"
   ]
  },
  {
   "cell_type": "code",
   "execution_count": 22,
   "metadata": {},
   "outputs": [
    {
     "data": {
      "text/plain": [
       "dict_keys(['@odata.context', '@odata.count', 'value'])"
      ]
     },
     "execution_count": 22,
     "metadata": {},
     "output_type": "execute_result"
    }
   ],
   "source": [
    "search_results.keys()"
   ]
  },
  {
   "cell_type": "markdown",
   "metadata": {},
   "source": [
    "This object is a dict with 3 keys:\n",
    "<ul>\n",
    "<li>@odata.context – The index and documents that were searched</li>\n",
    "<li>@odata.count – The count of documents returned from our index search query</li>\n",
    "<li>value – The output fields of the index search query</li>\n",
    "</ul>"
   ]
  },
  {
   "cell_type": "code",
   "execution_count": 24,
   "metadata": {},
   "outputs": [
    {
     "data": {
      "text/plain": [
       "\"https://nar-demo-search.search.windows.net/indexes('nar-demo-index')/$metadata#docs(*)\""
      ]
     },
     "execution_count": 24,
     "metadata": {},
     "output_type": "execute_result"
    }
   ],
   "source": [
    "search_results['@odata.context']"
   ]
  },
  {
   "cell_type": "code",
   "execution_count": 25,
   "metadata": {},
   "outputs": [
    {
     "data": {
      "text/plain": [
       "10"
      ]
     },
     "execution_count": 25,
     "metadata": {},
     "output_type": "execute_result"
    }
   ],
   "source": [
    "search_results['@odata.count']"
   ]
  },
  {
   "cell_type": "code",
   "execution_count": 26,
   "metadata": {},
   "outputs": [
    {
     "data": {
      "text/plain": [
       "10"
      ]
     },
     "execution_count": 26,
     "metadata": {},
     "output_type": "execute_result"
    }
   ],
   "source": [
    "len(search_results['value'])"
   ]
  },
  {
   "cell_type": "markdown",
   "metadata": {},
   "source": [
    "For each item in value, we are returned the fields that we defined in our index, as well as a search score:"
   ]
  },
  {
   "cell_type": "code",
   "execution_count": 27,
   "metadata": {},
   "outputs": [
    {
     "data": {
      "text/plain": [
       "dict_keys(['@search.score', 'id', 'metadata_storage_name', 'content', 'languageCode', 'keyPhrases', 'merged_text'])"
      ]
     },
     "execution_count": 27,
     "metadata": {},
     "output_type": "execute_result"
    }
   ],
   "source": [
    "search_results['value'][0].keys()"
   ]
  },
  {
   "cell_type": "markdown",
   "metadata": {},
   "source": [
    "We can take a look at the results of our search by looking at the PDF name and search score.\n",
    "\n",
    "By default, the output of the query is ordered by search score and we have not defined any weightings to fields but this is something that can also be defined:"
   ]
  },
  {
   "cell_type": "code",
   "execution_count": 28,
   "metadata": {},
   "outputs": [
    {
     "name": "stdout",
     "output_type": "stream",
     "text": [
      "PDF Name: nar00418-0158.pdf, Search Score 0.05012928\n",
      "PDF Name: nar00418-0066.pdf, Search Score 0.024230875\n",
      "PDF Name: nar00418-0118.pdf, Search Score 0.019516218\n",
      "PDF Name: nar00418-0174.pdf, Search Score 0.018859072\n",
      "PDF Name: nar00418-0076.pdf, Search Score 0.018488316\n",
      "PDF Name: nar00418-0133.pdf, Search Score 0.017665934\n",
      "PDF Name: nar00418-0187.pdf, Search Score 0.0138388\n",
      "PDF Name: nar00418-0107.pdf, Search Score 0.00976345\n",
      "PDF Name: nar00418-0094.pdf, Search Score 0.0070217247\n",
      "PDF Name: nar00432-0036.pdf, Search Score 0.003417009\n"
     ]
    }
   ],
   "source": [
    "for result in search_results['value']:\n",
    "    print('PDF Name: {}, Search Score {}'.format(result['metadata_storage_name'], result['@search.score']))"
   ]
  },
  {
   "cell_type": "markdown",
   "metadata": {},
   "source": [
    "In the cell below, we take a look at the beginning of the merged text of the highest scoring search result. Given that the name of this article is “Evidence for the role of double-helical structures in the maturation of Sinian Virus-40 messenger RNA”, it’s unsurprising that this is the highest scoring search result when searching for “RNA”."
   ]
  },
  {
   "cell_type": "code",
   "execution_count": 29,
   "metadata": {},
   "outputs": [
    {
     "name": "stdout",
     "output_type": "stream",
     "text": [
      "\n",
      "Volume 8 Number 1 1980 Nucleic Acids Research\n",
      "\n",
      "Evidence for the role of double-helical structures in the maturation of Sinian Virus-40 messenger\n",
      "RNA\n",
      "\n",
      "Nancy H.Chiu, Walter B.Bruszewski and Norman P.Salzman\n",
      "\n",
      "Laboratory of Biology of Viruses, National Institute of Allergy and Infectious Diseases, National\n",
      "Institutes of Health, Bethesda, MD 20205, USA\n"
     ]
    }
   ],
   "source": [
    "print(search_results['value'][0]['merged_text'][:350])"
   ]
  },
  {
   "cell_type": "markdown",
   "metadata": {},
   "source": [
    "Let’s now take a look at a query that won’t just return every document that we uploaded.\n",
    "\n",
    "Transcription is the mechanism by which DNA is encoded into RNA as the initial step in gene expression, ready to be translated into proteins.\n",
    "\n",
    "Let’s do a search for “transcription” and see how many results our query returns."
   ]
  },
  {
   "cell_type": "code",
   "execution_count": 30,
   "metadata": {},
   "outputs": [
    {
     "name": "stdout",
     "output_type": "stream",
     "text": [
      "https://nar-demo-search.search.windows.net/indexes/nar-demo-index/docs?api-version=2019-05-06&search=transcription&$count=true\n",
      "200\n"
     ]
    }
   ],
   "source": [
    "url = 'https://{}.search.windows.net/indexes/{}/docs'.format(service_name, index_name)\n",
    "url += '?api-version={}'.format(api_version)\n",
    "url += '&search=transcription'\n",
    "url += '&$count=true'\n",
    "print(url)\n",
    "\n",
    "resp = requests.get(url, headers=headers)\n",
    "print(resp.status_code)"
   ]
  },
  {
   "cell_type": "markdown",
   "metadata": {},
   "source": [
    "In the following cell, we find that the term transcription is found in 4 out of our 10 documents."
   ]
  },
  {
   "cell_type": "code",
   "execution_count": 31,
   "metadata": {},
   "outputs": [
    {
     "data": {
      "text/plain": [
       "4"
      ]
     },
     "execution_count": 31,
     "metadata": {},
     "output_type": "execute_result"
    }
   ],
   "source": [
    "search_results = resp.json()\n",
    "search_results['@odata.count']"
   ]
  },
  {
   "cell_type": "code",
   "execution_count": 32,
   "metadata": {},
   "outputs": [
    {
     "name": "stdout",
     "output_type": "stream",
     "text": [
      "PDF Name: nar00418-0133.pdf, Search Score 0.061607756\n",
      "PDF Name: nar00418-0066.pdf, Search Score 0.04978199\n",
      "PDF Name: nar00418-0076.pdf, Search Score 0.007796707\n",
      "PDF Name: nar00418-0118.pdf, Search Score 0.0067256093\n"
     ]
    }
   ],
   "source": [
    "for result in search_results['value']:\n",
    "    print('PDF Name: {}, Search Score {}'.format(result['metadata_storage_name'], result['@search.score']))"
   ]
  },
  {
   "cell_type": "markdown",
   "metadata": {},
   "source": [
    "When looking at our highest result, we can be buoyed once more by the fact that the highest scoring search result is likely to be highly related to transcription – this journal article is about the regions of the ovalbumin gene that are responsible for controlling gene expression and is led by noted Molecular Geneticist Pierre Chambon, whose work has focused on gene transcription."
   ]
  },
  {
   "cell_type": "code",
   "execution_count": 33,
   "metadata": {},
   "outputs": [
    {
     "name": "stdout",
     "output_type": "stream",
     "text": [
      "\n",
      "Volume8Numberl 1980 Nucleic Acids Research\n",
      "\n",
      "The ovalbumin gene - sequence of putative control regions\n",
      "\n",
      "C.Benoist, K.O'Hare, R.Breathnach and P.Chambon\n",
      "\n",
      "Laboratoire de Gine'tique Moleculaire des Eucaryotes du CNRS, Unite 184 de Biologie Moleculaire\n",
      "et de Genie Genetique de l'INSERM, Institut de Chimie Biologique, Faculte de Medecine,\n",
      "Strasbourg, France\n",
      "\n",
      "Received 8 November 1979\n",
      "\n",
      "ABSTRACT\n",
      "\n",
      "We present the sequence of regions of the chicken ovalbumin\n",
      "gene believed to be important in the control of initiation of\n",
      "transcription, splicing, and transcription termination or\n",
      "polyadenylation. Comparison with corresponding areas of other\n",
      "genes reveals some homologous regions which might play a role in\n",
      "these processes.\n"
     ]
    }
   ],
   "source": [
    "print(search_results['value'][0]['merged_text'][:715])"
   ]
  },
  {
   "cell_type": "markdown",
   "metadata": {},
   "source": [
    "## Pagination of Search Results"
   ]
  },
  {
   "cell_type": "markdown",
   "metadata": {},
   "source": [
    "As we might not want all results all of the time from our search, and indeed by default only the first 50 results will be returned, we might want to paginate our results, to allow users to explore results in batches.\n",
    "\n",
    "Let’s say we want to search for RNA, which we already know will find 10 results, but we only want to display 5 results on a page. We can do this by supplying to our URL a $top parameter."
   ]
  },
  {
   "cell_type": "code",
   "execution_count": 34,
   "metadata": {},
   "outputs": [
    {
     "name": "stdout",
     "output_type": "stream",
     "text": [
      "https://nar-demo-search.search.windows.net/indexes/nar-demo-index/docs?api-version=2019-05-06&search=RNA&$count=true&$top=5\n",
      "200\n",
      "Results Found: 10, Results Returned: 5\n",
      "Highest Search Score: 0.05012928\n"
     ]
    }
   ],
   "source": [
    "url = 'https://{}.search.windows.net/indexes/{}/docs'.format(service_name, index_name)\n",
    "url += '?api-version={}'.format(api_version)\n",
    "url += '&search=RNA'\n",
    "url += '&$count=true'\n",
    "url += '&$top=5'\n",
    "print(url)\n",
    "\n",
    "resp = requests.get(url, headers=headers)\n",
    "print(resp.status_code)\n",
    "\n",
    "search_results = resp.json()\n",
    "\n",
    "print(\"Results Found: {}, Results Returned: {}\".format(search_results['@odata.count'], len(search_results['value'])))\n",
    "print(\"Highest Search Score: {}\".format(search_results['value'][0]['@search.score']))"
   ]
  },
  {
   "cell_type": "markdown",
   "metadata": {},
   "source": [
    "That’s perfect for our first page, but what about the second page? We need a way of skipping the first 5 results and showing the next 5 highest scoring results.\n",
    "\n",
    "We can do this by supplying both $top and $skip parameters to our URL."
   ]
  },
  {
   "cell_type": "code",
   "execution_count": 35,
   "metadata": {},
   "outputs": [
    {
     "name": "stdout",
     "output_type": "stream",
     "text": [
      "https://nar-demo-search.search.windows.net/indexes/nar-demo-index/docs?api-version=2019-05-06&search=RNA&$count=true&$top=5&$skip=5\n",
      "200\n",
      "Results Found: 10, Results Returned: 5\n",
      "Highest Search Score: 0.017665934\n"
     ]
    }
   ],
   "source": [
    "url = 'https://{}.search.windows.net/indexes/{}/docs'.format(service_name, index_name)\n",
    "url += '?api-version={}'.format(api_version)\n",
    "url += '&search=RNA'\n",
    "url += '&$count=true'\n",
    "url += '&$top=5'\n",
    "url += '&$skip=5'\n",
    "print(url)\n",
    "\n",
    "resp = requests.get(url, headers=headers)\n",
    "print(resp.status_code)\n",
    "\n",
    "search_results = resp.json()\n",
    "\n",
    "print(\"Results Found: {}, Results Returned: {}\".format(search_results['@odata.count'], len(search_results['value'])))\n",
    "print(\"Highest Search Score: {}\".format(search_results['value'][0]['@search.score']))"
   ]
  },
  {
   "cell_type": "markdown",
   "metadata": {},
   "source": [
    "## Article Highlights from Search Results"
   ]
  },
  {
   "cell_type": "markdown",
   "metadata": {},
   "source": [
    "One of my favourite features of Azure Cognitive Search is the ability to highlight parts of the document that are relevant to our search results. Combined with the above, this really helps turn our API into a proper search engine.\n",
    "\n",
    "We can request highlights on a particular field by adding the highlight parameter to our URL as below. Let’s highlight the results we had from our search for “transcription”"
   ]
  },
  {
   "cell_type": "code",
   "execution_count": 36,
   "metadata": {},
   "outputs": [
    {
     "name": "stdout",
     "output_type": "stream",
     "text": [
      "200\n"
     ]
    }
   ],
   "source": [
    "url = 'https://{}.search.windows.net/indexes/{}/docs'.format(service_name, index_name)\n",
    "url += '?api-version={}'.format(api_version)\n",
    "url += '&search=transcription'\n",
    "url += '&$count=true'\n",
    "url += '&highlight=merged_text'\n",
    "\n",
    "resp = requests.get(url, headers=headers)\n",
    "print(resp.status_code)\n",
    "\n",
    "search_results = resp.json()"
   ]
  },
  {
   "cell_type": "markdown",
   "metadata": {},
   "source": [
    "This will extract relevant parts of the journal article regarding “transcription”.\n",
    "\n",
    "We can see in the cell below, which shows the highlights from the search result, that this will return a list of highlights from the article and even provides HTML em tags for the word transcription."
   ]
  },
  {
   "cell_type": "code",
   "execution_count": 37,
   "metadata": {},
   "outputs": [
    {
     "data": {
      "text/plain": [
       "['The roles that these sequences might play in the\\ncontrol of initiation of <em>transcription</em>, splicing of the primary\\ntranscript, and termination of <em>transcription</em> and polyadenylation\\nare discussed.',\n",
       " 'The roles that these sequences might play in the control of initiation of <em>transcription</em>, splicing of the primary transcript, and termination of <em>transcription</em> and polyadenylation are discussed.',\n",
       " 'Studies on the major late adenovirus 2 <em>transcription</em> unit\\n\\nhave led to the conclusion that in this case the start of\\n<em>transcription</em> most probably corresponds to the first, capped\\nnucleotide of the mature messenger (7, 8).',\n",
       " 'Studies on the major late adenovirus 2 <em>transcription</em> unit have led to the conclusion that in this case the start of <em>transcription</em> most probably corresponds to the first, capped nucleotide of the mature messenger (7, 8) .',\n",
       " 'The availability of in vitro <em>transcription</em> systems where specific initiation occurs, such as that recently described for the major late adenovirus 2 <em>transcription</em> unit (23) and the use of reversed genetics (24) to make mutations in putative promoter sequences should ultimately allow definition of the sequence elements important in the initiation of <em>transcription</em> by RNA polymerase B.']"
      ]
     },
     "execution_count": 37,
     "metadata": {},
     "output_type": "execute_result"
    }
   ],
   "source": [
    "search_results['value'][0]['@search.highlights']['merged_text']"
   ]
  },
  {
   "cell_type": "markdown",
   "metadata": {},
   "source": [
    "If we’re using a jupyter notebook, we can display these highlights with the word transcription emphasised through italicisation."
   ]
  },
  {
   "cell_type": "code",
   "execution_count": 38,
   "metadata": {},
   "outputs": [
    {
     "data": {
      "text/html": [
       "The roles that these sequences might play in the\n",
       "control of initiation of <em>transcription</em>, splicing of the primary\n",
       "transcript, and termination of <em>transcription</em> and polyadenylation\n",
       "are discussed."
      ],
      "text/plain": [
       "<IPython.core.display.HTML object>"
      ]
     },
     "metadata": {},
     "output_type": "display_data"
    },
    {
     "data": {
      "text/html": [
       "The roles that these sequences might play in the control of initiation of <em>transcription</em>, splicing of the primary transcript, and termination of <em>transcription</em> and polyadenylation are discussed."
      ],
      "text/plain": [
       "<IPython.core.display.HTML object>"
      ]
     },
     "metadata": {},
     "output_type": "display_data"
    },
    {
     "data": {
      "text/html": [
       "Studies on the major late adenovirus 2 <em>transcription</em> unit\n",
       "\n",
       "have led to the conclusion that in this case the start of\n",
       "<em>transcription</em> most probably corresponds to the first, capped\n",
       "nucleotide of the mature messenger (7, 8)."
      ],
      "text/plain": [
       "<IPython.core.display.HTML object>"
      ]
     },
     "metadata": {},
     "output_type": "display_data"
    },
    {
     "data": {
      "text/html": [
       "Studies on the major late adenovirus 2 <em>transcription</em> unit have led to the conclusion that in this case the start of <em>transcription</em> most probably corresponds to the first, capped nucleotide of the mature messenger (7, 8) ."
      ],
      "text/plain": [
       "<IPython.core.display.HTML object>"
      ]
     },
     "metadata": {},
     "output_type": "display_data"
    },
    {
     "data": {
      "text/html": [
       "The availability of in vitro <em>transcription</em> systems where specific initiation occurs, such as that recently described for the major late adenovirus 2 <em>transcription</em> unit (23) and the use of reversed genetics (24) to make mutations in putative promoter sequences should ultimately allow definition of the sequence elements important in the initiation of <em>transcription</em> by RNA polymerase B."
      ],
      "text/plain": [
       "<IPython.core.display.HTML object>"
      ]
     },
     "metadata": {},
     "output_type": "display_data"
    }
   ],
   "source": [
    "from IPython.display import display, HTML\n",
    "\n",
    "for highlight in search_results['value'][0]['@search.highlights']['merged_text']:\n",
    "    display(HTML(highlight))"
   ]
  },
  {
   "cell_type": "markdown",
   "metadata": {},
   "source": [
    "But that’s not all, if we wanted to supply our own tags to, for example, highlight instead of italicise these highlights we can supply our own HTML tags to surround the query phrase.\n",
    "\n",
    "In this case we’re providing span tags with some inline CSS."
   ]
  },
  {
   "cell_type": "code",
   "execution_count": 39,
   "metadata": {},
   "outputs": [
    {
     "name": "stdout",
     "output_type": "stream",
     "text": [
      "https://nar-demo-search.search.windows.net/indexes/nar-demo-index/docs?api-version=2019-05-06&search=transcription&$count=true&highlight=merged_text&highlightPreTag=%3Cspan%20style%3D%22background-color%3A%20%23f5e8a3%22%3E&highlightPostTag=%3C%2Fspan%3E\n",
      "200\n"
     ]
    }
   ],
   "source": [
    "import urllib\n",
    "\n",
    "url = 'https://{}.search.windows.net/indexes/{}/docs'.format(service_name, index_name)\n",
    "url += '?api-version={}'.format(api_version)\n",
    "url += '&search=transcription'\n",
    "url += '&$count=true'\n",
    "url += '&highlight=merged_text'\n",
    "url += '&highlightPreTag=' + urllib.parse.quote('<span style=\"background-color: #f5e8a3\">', safe='')\n",
    "url += '&highlightPostTag=' + urllib.parse.quote('</span>', safe='')\n",
    "\n",
    "resp = requests.get(url, headers=headers)\n",
    "print(url)\n",
    "print(resp.status_code)\n",
    "\n",
    "search_results = resp.json()"
   ]
  },
  {
   "cell_type": "markdown",
   "metadata": {},
   "source": [
    "Now when we display our search results, the output looks a little bit more like that of a regular search engine.\n",
    "\n",
    "Feel free to explore your Azure Cognitive Search endpoints and don’t forget to delete your resource group when you’re finished exploring."
   ]
  },
  {
   "cell_type": "code",
   "execution_count": 40,
   "metadata": {},
   "outputs": [
    {
     "data": {
      "text/html": [
       "<h4>nar00418-0133.pdf</h4>"
      ],
      "text/plain": [
       "<IPython.core.display.HTML object>"
      ]
     },
     "metadata": {},
     "output_type": "display_data"
    },
    {
     "data": {
      "text/html": [
       "The roles that these sequences might play in the\n",
       "control of initiation of <span style=\"background-color: #f5e8a3\">transcription</span>, splicing of the primary\n",
       "transcript, and termination of <span style=\"background-color: #f5e8a3\">transcription</span> and polyadenylation\n",
       "are discussed."
      ],
      "text/plain": [
       "<IPython.core.display.HTML object>"
      ]
     },
     "metadata": {},
     "output_type": "display_data"
    },
    {
     "data": {
      "text/html": [
       "The roles that these sequences might play in the control of initiation of <span style=\"background-color: #f5e8a3\">transcription</span>, splicing of the primary transcript, and termination of <span style=\"background-color: #f5e8a3\">transcription</span> and polyadenylation are discussed."
      ],
      "text/plain": [
       "<IPython.core.display.HTML object>"
      ]
     },
     "metadata": {},
     "output_type": "display_data"
    },
    {
     "data": {
      "text/html": [
       "Studies on the major late adenovirus 2 <span style=\"background-color: #f5e8a3\">transcription</span> unit\n",
       "\n",
       "have led to the conclusion that in this case the start of\n",
       "<span style=\"background-color: #f5e8a3\">transcription</span> most probably corresponds to the first, capped\n",
       "nucleotide of the mature messenger (7, 8)."
      ],
      "text/plain": [
       "<IPython.core.display.HTML object>"
      ]
     },
     "metadata": {},
     "output_type": "display_data"
    },
    {
     "data": {
      "text/html": [
       "Studies on the major late adenovirus 2 <span style=\"background-color: #f5e8a3\">transcription</span> unit have led to the conclusion that in this case the start of <span style=\"background-color: #f5e8a3\">transcription</span> most probably corresponds to the first, capped nucleotide of the mature messenger (7, 8) ."
      ],
      "text/plain": [
       "<IPython.core.display.HTML object>"
      ]
     },
     "metadata": {},
     "output_type": "display_data"
    },
    {
     "data": {
      "text/html": [
       "The availability of in vitro <span style=\"background-color: #f5e8a3\">transcription</span> systems where specific initiation occurs, such as that recently described for the major late adenovirus 2 <span style=\"background-color: #f5e8a3\">transcription</span> unit (23) and the use of reversed genetics (24) to make mutations in putative promoter sequences should ultimately allow definition of the sequence elements important in the initiation of <span style=\"background-color: #f5e8a3\">transcription</span> by RNA polymerase B."
      ],
      "text/plain": [
       "<IPython.core.display.HTML object>"
      ]
     },
     "metadata": {},
     "output_type": "display_data"
    },
    {
     "data": {
      "text/html": [
       "<h4>nar00418-0066.pdf</h4>"
      ],
      "text/plain": [
       "<IPython.core.display.HTML object>"
      ]
     },
     "metadata": {},
     "output_type": "display_data"
    },
    {
     "data": {
      "text/html": [
       "USA\n",
       "\n",
       "Received 31 July 1979\n",
       "\n",
       "ABSTRACT\n",
       "Avian A polynrases use host tRNATrP as the primer for <span style=\"background-color: #f5e8a3\">transcription</span>."
      ],
      "text/plain": [
       "<IPython.core.display.HTML object>"
      ]
     },
     "metadata": {},
     "output_type": "display_data"
    },
    {
     "data": {
      "text/html": [
       "IRDUCICN\n",
       "Avian rlN tumor virus DNA polymerases require the Ihst tRNAP primer\n",
       "\n",
       "for <span style=\"background-color: #f5e8a3\">transcription</span> of the viral genare (1,2)."
      ],
      "text/plain": [
       "<IPython.core.display.HTML object>"
      ]
     },
     "metadata": {},
     "output_type": "display_data"
    },
    {
     "data": {
      "text/html": [
       "USA Received 31 July 1979 ABSTRACT Avian DNA polymerases use host tRNALIP as the primer for <span style=\"background-color: #f5e8a3\">transcription</span>."
      ],
      "text/plain": [
       "<IPython.core.display.HTML object>"
      ]
     },
     "metadata": {},
     "output_type": "display_data"
    },
    {
     "data": {
      "text/html": [
       "INTRODUCTION Avian RNA tumor virus DNA polymerases require the host tRNATSP primer for <span style=\"background-color: #f5e8a3\">transcription</span> of the viral genome (1,2) ."
      ],
      "text/plain": [
       "<IPython.core.display.HTML object>"
      ]
     },
     "metadata": {},
     "output_type": "display_data"
    },
    {
     "data": {
      "text/html": [
       "The labeled LRNAP-fragment that differed from intact tRNAP by the absence of nucleotides from the 3'-end was examined for its capacity to bind to AMV DNA polymerase and to be used as a primer for the <span style=\"background-color: #f5e8a3\">transcription</span> of viral 35S RNA."
      ],
      "text/plain": [
       "<IPython.core.display.HTML object>"
      ]
     },
     "metadata": {},
     "output_type": "display_data"
    },
    {
     "data": {
      "text/html": [
       "<h4>nar00418-0076.pdf</h4>"
      ],
      "text/plain": [
       "<IPython.core.display.HTML object>"
      ]
     },
     "metadata": {},
     "output_type": "display_data"
    },
    {
     "data": {
      "text/html": [
       "Little is known about the\n",
       "<span style=\"background-color: #f5e8a3\">transcription</span> of those repeats that contain an intron within the 28S gene\n",
       "(exon)."
      ],
      "text/plain": [
       "<IPython.core.display.HTML object>"
      ]
     },
     "metadata": {},
     "output_type": "display_data"
    },
    {
     "data": {
      "text/html": [
       "Little is known about the <span style=\"background-color: #f5e8a3\">transcription</span> of those repeats that contain an intron within the 28S gene (exon)."
      ],
      "text/plain": [
       "<IPython.core.display.HTML object>"
      ]
     },
     "metadata": {},
     "output_type": "display_data"
    },
    {
     "data": {
      "text/html": [
       "Thirdly, there appears to be some\n",
       "<span style=\"background-color: #f5e8a3\">transcription</span> off the \"nontranscribed spacer' (band 4, probe E)."
      ],
      "text/plain": [
       "<IPython.core.display.HTML object>"
      ]
     },
     "metadata": {},
     "output_type": "display_data"
    },
    {
     "data": {
      "text/html": [
       "DISCUSSION\n",
       "Previous investigations of rRNA <span style=\"background-color: #f5e8a3\">transcription</span> and processing have\n",
       "\n",
       "used pulse labelling techniques [29,48]."
      ],
      "text/plain": [
       "<IPython.core.display.HTML object>"
      ]
     },
     "metadata": {},
     "output_type": "display_data"
    },
    {
     "data": {
      "text/html": [
       "Thirdly, there appears to be some <span style=\"background-color: #f5e8a3\">transcription</span> off the \"nontranscribed spacer\" (band 4, probe E)."
      ],
      "text/plain": [
       "<IPython.core.display.HTML object>"
      ]
     },
     "metadata": {},
     "output_type": "display_data"
    },
    {
     "data": {
      "text/html": [
       "<h4>nar00418-0118.pdf</h4>"
      ],
      "text/plain": [
       "<IPython.core.display.HTML object>"
      ]
     },
     "metadata": {},
     "output_type": "display_data"
    },
    {
     "data": {
      "text/html": [
       "Nucleic Acids Research\n",
       "\n",
       "<span style=\"background-color: #f5e8a3\">Transcription</span> of the viral genome in cell lines transformed by sinian virus 40."
      ],
      "text/plain": [
       "<IPython.core.display.HTML object>"
      ]
     },
     "metadata": {},
     "output_type": "display_data"
    },
    {
     "data": {
      "text/html": [
       "Volume 8 Number 1 1980\n",
       "\n",
       "ill\n",
       "\n",
       "[image: image0.tif] Volume 8 Number 1 1980 Nucleic Acids Research <span style=\"background-color: #f5e8a3\">Transcription</span> of the viral genome in cell lines transformed by simian virus 40."
      ],
      "text/plain": [
       "<IPython.core.display.HTML object>"
      ]
     },
     "metadata": {},
     "output_type": "display_data"
    },
    {
     "data": {
      "text/html": [
       "The present report is concerned with the study of vilus-\n",
       "specific <span style=\"background-color: #f5e8a3\">transcription</span> in three cloned SV40 transformed rat cell\n",
       "lines which contain only one copy of the entire SV40 DNA."
      ],
      "text/plain": [
       "<IPython.core.display.HTML object>"
      ]
     },
     "metadata": {},
     "output_type": "display_data"
    },
    {
     "data": {
      "text/html": [
       "It is apparent that <span style=\"background-color: #f5e8a3\">transcription</span> on such altered templates can yield high molecular weight RNA as well as transcripts from the late region of SV40 genome."
      ],
      "text/plain": [
       "<IPython.core.display.HTML object>"
      ]
     },
     "metadata": {},
     "output_type": "display_data"
    },
    {
     "data": {
      "text/html": [
       "The present report is concerned with the study of virus- specific <span style=\"background-color: #f5e8a3\">transcription</span> in three cloned SV40 transformed rat cell lines which contain only one copy of the entire SV40 DNA."
      ],
      "text/plain": [
       "<IPython.core.display.HTML object>"
      ]
     },
     "metadata": {},
     "output_type": "display_data"
    }
   ],
   "source": [
    "for result in search_results['value']:\n",
    "    display(HTML('<h4>' + result['metadata_storage_name'] + '</h4>'))\n",
    "    for highlight in result['@search.highlights']['merged_text']:\n",
    "        display(HTML(highlight))"
   ]
  },
  {
   "cell_type": "markdown",
   "metadata": {},
   "source": [
    "## search for Text OCR"
   ]
  },
  {
   "cell_type": "markdown",
   "metadata": {},
   "source": [
    "<img src='img/Origin.PNG'>"
   ]
  },
  {
   "cell_type": "code",
   "execution_count": 41,
   "metadata": {},
   "outputs": [
    {
     "name": "stdout",
     "output_type": "stream",
     "text": [
      "https://nar-demo-search.search.windows.net/indexes/nar-demo-index/docs?api-version=2019-05-06&search=Origin&$count=true&highlight=merged_text&highlightPreTag=%3Cspan%20style%3D%22background-color%3A%20%23f5e8a3%22%3E&highlightPostTag=%3C%2Fspan%3E\n",
      "200\n"
     ]
    }
   ],
   "source": [
    "import urllib\n",
    "\n",
    "url = 'https://{}.search.windows.net/indexes/{}/docs'.format(service_name, index_name)\n",
    "url += '?api-version={}'.format(api_version)\n",
    "url += '&search=Origin'\n",
    "url += '&$count=true'\n",
    "url += '&highlight=merged_text'\n",
    "url += '&highlightPreTag=' + urllib.parse.quote('<span style=\"background-color: #f5e8a3\">', safe='')\n",
    "url += '&highlightPostTag=' + urllib.parse.quote('</span>', safe='')\n",
    "\n",
    "resp = requests.get(url, headers=headers)\n",
    "print(url)\n",
    "print(resp.status_code)\n",
    "\n",
    "search_results = resp.json()"
   ]
  },
  {
   "cell_type": "code",
   "execution_count": 42,
   "metadata": {},
   "outputs": [
    {
     "data": {
      "text/html": [
       "<h4>nar00418-0066.pdf</h4>"
      ],
      "text/plain": [
       "<IPython.core.display.HTML object>"
      ]
     },
     "metadata": {},
     "output_type": "display_data"
    },
    {
     "data": {
      "text/html": [
       "|pApI\n",
       "\n",
       "* ,~~~pcpl\n",
       "\n",
       "-<span style=\"background-color: #f5e8a3\">Origin</span>-\n",
       "\n",
       "to the enzyne (11)."
      ],
      "text/plain": [
       "<IPython.core.display.HTML object>"
      ]
     },
     "metadata": {},
     "output_type": "display_data"
    },
    {
     "data": {
      "text/html": [
       "The precise function, if any, of the AMV DNA polymerase associated nuclease (19,20) in the processing of the tRNA primer remains to be determined. 64 \n",
       "\n",
       "[image: image10.jpg] ABCD ipep -<span style=\"background-color: #f5e8a3\">Origin</span>- \n",
       "\n",
       "\n",
       "\n",
       "Nucleic Acids Research\n",
       "\n",
       "A\n",
       "C\n",
       "C\n",
       "A\n",
       "\n",
       "pG - C\n",
       "\n",
       "(c-~D 70 OIoC 30010o nmGAA CC2G\\ AC G C m2\n",
       "Gm\n",
       "GD A GCG Cm2(\n",
       "\n",
       "A -U\n",
       "C - G-69\n",
       "C -G\n",
       "U- G\n",
       "C - G-66\n",
       "G-C U Am1A\n",
       "\n",
       "J U G C A C G60o)\n",
       "II Ii A 40 Io\n",
       "GCGUG C\n",
       "\n",
       "D-(C)\n",
       "A G' G 35 °'° (7G\n",
       "\n",
       "C -G\n",
       "U A\n",
       "G- C\n",
       "A - Yrm\n",
       "\n",
       "Cm A\n",
       "U m1G\n",
       "Cmc A\n",
       "\n",
       "Fig. 5."
      ],
      "text/plain": [
       "<IPython.core.display.HTML object>"
      ]
     },
     "metadata": {},
     "output_type": "display_data"
    },
    {
     "data": {
      "text/html": [
       "<h4>nar00418-0187.pdf</h4>"
      ],
      "text/plain": [
       "<IPython.core.display.HTML object>"
      ]
     },
     "metadata": {},
     "output_type": "display_data"
    },
    {
     "data": {
      "text/html": [
       "Functional tests showed that none of the sites\n",
       "observed had artifact <span style=\"background-color: #f5e8a3\">origin</span> because: i) both sites are messen-\n",
       "ger-dependent; ii) the site with a higher affinity to tRNA was\n",
       "identified as a P site: it was not influenced by low concent-\n",
       "rations of TET and, on the other hand, N-Acetyl-Phe-tpAPe,\n",
       "initially prebound to the 30S.poly(U) complex in the presence\n",
       "of TET, reacted quantitatively with puromycin after the addi-\n",
       "tion of 50S subunits; iii) the site with lower affinity to tRNA\n",
       "revealed features of A site as binding of aminoacyl-tRNA (as\n",
       "well as peptidyl-tRNA) was totally prevented by TET; iv) the\n",
       "binding of two molecules of Phe-tRNAPhe to the 3OSepoly(U)\n",
       "complex followed by the addition of 50S subunits resulted in\n",
       "the formation of (Phe)2-tRNAPhe almost in all ribosomes."
      ],
      "text/plain": [
       "<IPython.core.display.HTML object>"
      ]
     },
     "metadata": {},
     "output_type": "display_data"
    },
    {
     "data": {
      "text/html": [
       "Functional tests showed that none of the sites observed had artifact <span style=\"background-color: #f5e8a3\">origin</span> because: i ) both sites are messen- ger-dependent; ii) the site with a higher affinity to tRNA was identified as a P site: it was not influenced by low concent- rations of TET and, on the other hand, N-Acetyl-Phe-tRNAPhe, initially prebound to the 308-poly(U) complex in the presence of TET, reacted quantitatively with puromycin after the addi- tion of 50S subunits; ifi) the site with lower affinity to tRNA revealed features of A site as binding of aminoacyl-tRNA (as well as peptidyl-tRNA) was totally prevented by TET; iv) the binding of two molecules of Phe-tRNA\" to the 30S. poly(U) complex followed by the addition of 50S subunits resulted in the formation of (Phe),-tRNAThe almost in all ribosomes."
      ],
      "text/plain": [
       "<IPython.core.display.HTML object>"
      ]
     },
     "metadata": {},
     "output_type": "display_data"
    },
    {
     "data": {
      "text/html": [
       "<h4>nar00432-0036.pdf</h4>"
      ],
      "text/plain": [
       "<IPython.core.display.HTML object>"
      ]
     },
     "metadata": {},
     "output_type": "display_data"
    },
    {
     "data": {
      "text/html": [
       "B and Y represent the blue (Xylene cyanol FF) and\n",
       "yellow (Orange G) dye markers, and 0 represents the <span style=\"background-color: #f5e8a3\">origin</span> of electrophoresis.\n",
       "\n",
       "3282\n",
       "\n",
       "[image: image10.tif] Nucleic Acids Research TthillII for 1 h at 65C in 500 ul of the reaction mixture."
      ],
      "text/plain": [
       "<IPython.core.display.HTML object>"
      ]
     },
     "metadata": {},
     "output_type": "display_data"
    },
    {
     "data": {
      "text/html": [
       "B and Y represent the blue (Xylene cyanol FF) and yellow (Orange G) dye markers, and 0 represents the <span style=\"background-color: #f5e8a3\">origin</span> of electrophoresis. 3282 \n",
       "\n",
       "[image: image11.jpg] (i ) (ii) PC - C B - G PG A - G DA A G Y T A O (iii) (iv) B PT T PA B T- .C T V C A G C T (v) B PT .G BpG - C A -1 < T Y C \n",
       "\n",
       "\n",
       "\n",
       "Nucleic Acids Research\n",
       "\n",
       "digests were separated by electrophoresis on a 5 % polyacrylamide slab gel."
      ],
      "text/plain": [
       "<IPython.core.display.HTML object>"
      ]
     },
     "metadata": {},
     "output_type": "display_data"
    },
    {
     "data": {
      "text/html": [
       "<h4>nar00418-0118.pdf</h4>"
      ],
      "text/plain": [
       "<IPython.core.display.HTML object>"
      ]
     },
     "metadata": {},
     "output_type": "display_data"
    },
    {
     "data": {
      "text/html": [
       "Since it was impos-\n",
       "sible to detect in these experimnts what part of the sequences\n",
       "of the late region was prsent in BRA. transcripts, the <span style=\"background-color: #f5e8a3\">origin</span>\n",
       "of these transcripts is not clear enou."
      ],
      "text/plain": [
       "<IPython.core.display.HTML object>"
      ]
     },
     "metadata": {},
     "output_type": "display_data"
    },
    {
     "data": {
      "text/html": [
       "Since it was impos- sible to detect in these experiments what part of the sequences of the late region was present in RNA transcripts, the <span style=\"background-color: #f5e8a3\">origin</span> of these transcripts is not clear enough."
      ],
      "text/plain": [
       "<IPython.core.display.HTML object>"
      ]
     },
     "metadata": {},
     "output_type": "display_data"
    }
   ],
   "source": [
    "for result in search_results['value']:\n",
    "    display(HTML('<h4>' + result['metadata_storage_name'] + '</h4>'))\n",
    "    for highlight in result['@search.highlights']['merged_text']:\n",
    "        display(HTML(highlight))"
   ]
  },
  {
   "cell_type": "code",
   "execution_count": null,
   "metadata": {},
   "outputs": [],
   "source": []
  }
 ],
 "metadata": {
  "kernelspec": {
   "display_name": "narsearch",
   "language": "python",
   "name": "narsearch"
  },
  "language_info": {
   "codemirror_mode": {
    "name": "ipython",
    "version": 3
   },
   "file_extension": ".py",
   "mimetype": "text/x-python",
   "name": "python",
   "nbconvert_exporter": "python",
   "pygments_lexer": "ipython3",
   "version": "3.8.2"
  }
 },
 "nbformat": 4,
 "nbformat_minor": 2
}
