{
 "cells": [
  {
   "cell_type": "markdown",
   "metadata": {},
   "source": [
    "# Searching document text at scale using Azure Cognitive Search"
   ]
  },
  {
   "cell_type": "markdown",
   "metadata": {},
   "source": [
    "<ul>\n",
    "    <li>Creating an Azure Storage Account</li>\n",
    "    <li>Uploading documents to our Azure Storage Account</li>\n",
    "    <li>Creating an Azure Cognitive Search instance</li>\n",
    "    <li>Connecting the Azure Cognitive Search instance to our data source</li>\n",
    "    <li>Connecting the Azure Cognitive Search instance to Cognitive Services</li>\n",
    "    <li>Defining a skillset including our custom skill</li>\n",
    "    <li>Indexing our documents</li>\n",
    "    <li>Querying Azure Search</li>\n",
    "    <li>Formatting search highlights</li>\n",
    "</ul>"
   ]
  },
  {
   "cell_type": "markdown",
   "metadata": {},
   "source": [
    "<img src='img/azure-search-diagram.png'>"
   ]
  },
  {
   "cell_type": "markdown",
   "metadata": {},
   "source": [
    "<h2>Creating a blob storage account</h2>"
   ]
  },
  {
   "cell_type": "markdown",
   "metadata": {},
   "source": [
    "### with azure cli and with VSCode terminal"
   ]
  },
  {
   "cell_type": "raw",
   "metadata": {},
   "source": [
    "az login\n",
    "select Subscription :\n",
    "az account set --subscription 4495aea3-1236-4df7-bfe7-ffa0902059ab\n",
    "az group create --name azure-search-nar-demo --location eastus2\n",
    "az storage account create --name narsearchdemostorage --resource-group azure-search-nar-demo --location eastus2\n",
    "az storage account show-connection-string --name narsearchdemostorage\n",
    "\n",
    "\"connectionString\": \"DefaultEndpointsProtocol=https;EndpointSuffix=core.windows.net;AccountName=narsearchdemostorage;AccountKey=kCgQIYa1avf5cYm2rNkHP4PpkM+MrrkJZRF3is6lfZZgeCtnRWEBuEqGB+OfdCaA7yfKP/AwwihMOjypVsQ81A==\"\n",
    "\n",
    "pip install azure-storage-blob\n",
    "pip install requests\n",
    "\n"
   ]
  },
  {
   "cell_type": "code",
   "execution_count": 2,
   "metadata": {},
   "outputs": [
    {
     "ename": "ModuleNotFoundError",
     "evalue": "No module named 'azure'",
     "output_type": "error",
     "traceback": [
      "\u001b[1;31m---------------------------------------------------------------------------\u001b[0m",
      "\u001b[1;31mModuleNotFoundError\u001b[0m                       Traceback (most recent call last)",
      "\u001b[1;32m<ipython-input-2-88ea5f6dbb94>\u001b[0m in \u001b[0;36m<module>\u001b[1;34m\u001b[0m\n\u001b[0;32m      1\u001b[0m \u001b[1;32mimport\u001b[0m \u001b[0mos\u001b[0m\u001b[1;33m\u001b[0m\u001b[1;33m\u001b[0m\u001b[0m\n\u001b[0;32m      2\u001b[0m \u001b[1;33m\u001b[0m\u001b[0m\n\u001b[1;32m----> 3\u001b[1;33m \u001b[1;32mfrom\u001b[0m \u001b[0mazure\u001b[0m\u001b[1;33m.\u001b[0m\u001b[0mstorage\u001b[0m\u001b[1;33m.\u001b[0m\u001b[0mblob\u001b[0m \u001b[1;32mimport\u001b[0m \u001b[0mBlobServiceClient\u001b[0m\u001b[1;33m,\u001b[0m \u001b[0mBlobClient\u001b[0m\u001b[1;33m,\u001b[0m \u001b[0mContainerClient\u001b[0m\u001b[1;33m\u001b[0m\u001b[1;33m\u001b[0m\u001b[0m\n\u001b[0m\u001b[0;32m      4\u001b[0m \u001b[1;33m\u001b[0m\u001b[0m\n\u001b[0;32m      5\u001b[0m \u001b[0mconnection_string\u001b[0m \u001b[1;33m=\u001b[0m \u001b[1;34m\"DefaultEndpointsProtocol=https;EndpointSuffix=core.windows.net;AccountName=narsearchdemostorage;AccountKey=kCgQIYa1avf5cYm2rNkHP4PpkM+MrrkJZRF3is6lfZZgeCtnRWEBuEqGB+OfdCaA7yfKP/AwwihMOjypVsQ81A==\"\u001b[0m\u001b[1;33m\u001b[0m\u001b[1;33m\u001b[0m\u001b[0m\n",
      "\u001b[1;31mModuleNotFoundError\u001b[0m: No module named 'azure'"
     ]
    }
   ],
   "source": [
    "import os\n",
    "\n",
    "from azure.storage.blob import BlobServiceClient, BlobClient, ContainerClient\n",
    "\n",
    "connection_string = \"DefaultEndpointsProtocol=https;EndpointSuffix=core.windows.net;AccountName=narsearchdemostorage;AccountKey=kCgQIYa1avf5cYm2rNkHP4PpkM+MrrkJZRF3is6lfZZgeCtnRWEBuEqGB+OfdCaA7yfKP/AwwihMOjypVsQ81A==\"\n",
    "\n",
    "blob_service_client = BlobServiceClient.from_connection_string(connection_string)\n",
    "\n",
    "container_name = \"nar-pdf-container\"\n",
    "\n",
    "container_client = blob_service_client.create_container(container_name)"
   ]
  },
  {
   "cell_type": "code",
   "execution_count": null,
   "metadata": {},
   "outputs": [],
   "source": []
  }
 ],
 "metadata": {
  "kernelspec": {
   "display_name": "Python 3",
   "language": "python",
   "name": "python3"
  },
  "language_info": {
   "codemirror_mode": {
    "name": "ipython",
    "version": 3
   },
   "file_extension": ".py",
   "mimetype": "text/x-python",
   "name": "python",
   "nbconvert_exporter": "python",
   "pygments_lexer": "ipython3",
   "version": "3.7.3"
  }
 },
 "nbformat": 4,
 "nbformat_minor": 2
}
